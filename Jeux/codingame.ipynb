{
 "cells": [
  {
   "cell_type": "markdown",
   "metadata": {},
   "source": [
    "Pour enregistrer les poids calculer localement :"
   ]
  },
  {
   "cell_type": "markdown",
   "metadata": {},
   "source": [
    "1. rajouter la fonction pickle() à l'agent pour retourner les poids :"
   ]
  },
  {
   "cell_type": "code",
   "execution_count": null,
   "metadata": {},
   "outputs": [],
   "source": [
    "import numpy as np\n",
    "import pickle\n",
    "\n",
    "def pickle(self):\n",
    "    weights = []\n",
    "    biases = []\n",
    "\n",
    "    # Get the weights and biases\n",
    "    for name, param in self.policy_network.named_parameters():\n",
    "        if 'weight' in name:\n",
    "            weights.append(np.array(param.clone().detach()))\n",
    "        elif 'bias' in name:\n",
    "            biases.append(np.array(param.clone().detach()))\n",
    "    return pickle.dumps((weights,biases))\n"
   ]
  },
  {
   "cell_type": "markdown",
   "metadata": {},
   "source": [
    "2. enregistrer les poids dans un fichier txt :"
   ]
  },
  {
   "cell_type": "code",
   "execution_count": null,
   "metadata": {},
   "outputs": [],
   "source": [
    "# train agent\n",
    "\n",
    "import zlib\n",
    "import base64 as b64\n",
    "\n",
    "\n",
    "weights_bytes = agent.pickle()\n",
    "compressed_weights = zlib.compress(weights_bytes)\n",
    "\n",
    "ascii_weights = b64.b64encode(compressed_weights).decode('ascii')\n",
    "file = open(\"weights.txt\", \"w\") # enregistrer dans un fichier\n",
    "file.write(ascii_weights)\n",
    "file.close()"
   ]
  },
  {
   "cell_type": "markdown",
   "metadata": {},
   "source": [
    "Sur CodinGame :"
   ]
  },
  {
   "cell_type": "code",
   "execution_count": null,
   "metadata": {},
   "outputs": [],
   "source": [
    "import numpy as np\n",
    "import pickle\n",
    "import zlib\n",
    "import base64 as b64\n",
    "\n",
    "\n",
    "\n",
    "class GameRepresentation():\n",
    "    pass\n",
    "\n",
    "class Agent:\n",
    "    pass\n",
    "\n",
    "\n",
    "\n",
    "\n",
    "class Neural_Network_Git():\n",
    "    def __init__(self, input, output, hidden_layer_sizes=[], weights_biases=None):\n",
    "        self.input = input # number of input nodes + 1 for bias\n",
    "        self.output = output # number of output nodes\n",
    "\n",
    "        # Layers\n",
    "        self.layer_sizes = [self.input] + list(hidden_layer_sizes) + [self.output]\n",
    "        self.layers = [np.ones(s) for s in self.layer_sizes]\n",
    "        self.num_layers = len(self.layers) \n",
    "\n",
    "        # Weights and biases\n",
    "        if weights_biases == None:\n",
    "            self.weights = []\n",
    "            self.biases = []\n",
    "            for s0, s1 in zip(self.layer_sizes[:-1], self.layer_sizes[1:]):\n",
    "                self.weights.append(np.random.randn(s0, s1))\n",
    "                self.biases.append(np.random.randn(s1))\n",
    "        else:\n",
    "            self.weights, self.biases = weights_biases\n",
    "\n",
    "        # Lists for enumeration\n",
    "        self.weights_and_biases = list(zip(range(self.num_layers - 1), self.weights, self.biases))\n",
    "        self.rev_weights_biases = list(reversed(self.weights_and_biases))\n",
    "\n",
    "\n",
    "    def compute_output(self, inputs):\n",
    "        # set inputs\n",
    "        a = inputs\n",
    "        self.layers[0] = a \n",
    "\n",
    "        for i, w, b in self.weights_and_biases:\n",
    "            sum = np.dot(a,w.T) + np.array(b)\n",
    "            a = 1 / (1 + np.exp(-sum))\n",
    "            self.layers[i+1] = a\n",
    "        \n",
    "        return self.layers[-1]\n",
    "    \n",
    "\n",
    "\n",
    "\n",
    "\n",
    "\n",
    "\n",
    "agent = Agent()\n",
    "\n",
    "ascii_weights = \"\"\n",
    "poids = pickle.loads(zlib.decompress(b64.b64decode(ascii_weights)))\n",
    "\n",
    "net = Neural_Network_Git(state_size, action_size, hidden_layer_sizes, weights_biases=poids)\n",
    "agent.policy_network = net\n",
    "\n",
    "\n",
    "\n",
    "\n",
    "while True:\n",
    "    # jeu"
   ]
  }
 ],
 "metadata": {
  "language_info": {
   "name": "python"
  }
 },
 "nbformat": 4,
 "nbformat_minor": 2
}
